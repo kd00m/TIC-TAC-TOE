{
 "cells": [
  {
   "cell_type": "code",
   "execution_count": null,
   "id": "c121ab24",
   "metadata": {},
   "outputs": [],
   "source": [
    "def board_table(board):\n",
    "    print(board[0] + \"|\" + board[1] + \"|\" + board[2]) \n",
    "    print(\"-----\")\n",
    "    print(board[3] + \"|\" + board[4] + \"|\" + board[5]) \n",
    "    print(\"-----\")\n",
    "    print(board[6] + \"|\" + board[7] + \"|\" + board[8]) \n",
    "    return board"
   ]
  },
  {
   "cell_type": "code",
   "execution_count": null,
   "id": "a78fc017",
   "metadata": {},
   "outputs": [],
   "source": [
    "def user_input(board, u_input):\n",
    "    select_place = ''\n",
    "    while not select_place.isdigit() or int(select_place) not in range(1,10):\n",
    "        select_place = input(f\"Select digit (place on board where you want put {u_input}) from 1 to 9 : \")\n",
    "    select_place = int(select_place)\n",
    "    if board[select_place - 1] != ' ':\n",
    "        user_input(board, u_input)\n",
    "    else:\n",
    "        board[select_place - 1] = u_input\n",
    "    return board"
   ]
  },
  {
   "cell_type": "code",
   "execution_count": null,
   "id": "9d5af551",
   "metadata": {},
   "outputs": [],
   "source": [
    "def finish(board):\n",
    "    if ['X', 'X', 'X'] == [board[0], board[1], board[2]] or \\\n",
    "       ['X', 'X', 'X'] == [board[3], board[4], board[5]] or \\\n",
    "       ['X', 'X', 'X'] == [board[6], board[7], board[8]] or \\\n",
    "       ['X', 'X', 'X'] == [board[0], board[3], board[6]] or \\\n",
    "       ['X', 'X', 'X'] == [board[1], board[4], board[7]] or \\\n",
    "       ['X', 'X', 'X'] == [board[2], board[5], board[8]] or \\\n",
    "       ['X', 'X', 'X'] == [board[0], board[4], board[8]] or \\\n",
    "       ['X', 'X', 'X'] == [board[2], board[4], board[6]] :\n",
    "        clear_output()\n",
    "        board_table(board)\n",
    "        print('\\nPLAYER 1 WON')\n",
    "        return True\n",
    "    elif \\\n",
    "       ['O', 'O', 'O'] == [board[0], board[1], board[2]] or \\\n",
    "       ['O', 'O', 'O'] == [board[3], board[4], board[5]] or \\\n",
    "       ['O', 'O', 'O'] == [board[6], board[7], board[8]] or \\\n",
    "       ['O', 'O', 'O'] == [board[0], board[3], board[6]] or \\\n",
    "       ['O', 'O', 'O'] == [board[1], board[4], board[7]] or \\\n",
    "       ['O', 'O', 'O'] == [board[2], board[5], board[8]] or \\\n",
    "       ['O', 'O', 'O'] == [board[0], board[4], board[8]] or \\\n",
    "       ['O', 'O', 'O'] == [board[2], board[4], board[6]] :\n",
    "        clear_output()\n",
    "        board_table(board)\n",
    "        print('\\nPLAYER 2 WON')\n",
    "        return True\n",
    "    elif set(board) == {'X', 'O'}:\n",
    "        clear_output()\n",
    "        board_table(board)\n",
    "        print(\"\\nIt's a draw mate!\")\n",
    "        return True\n",
    "    return False"
   ]
  },
  {
   "cell_type": "code",
   "execution_count": null,
   "id": "1feb3532",
   "metadata": {},
   "outputs": [],
   "source": [
    "from IPython.display import clear_output\n",
    "board = [' ', ' ', ' ', ' ', ' ', ' ', ' ', ' ', ' ']\n",
    "u_input = 'TRY'\n",
    "def game_logic(board, u_input):\n",
    "    while True :\n",
    "        # FIRST PLAYER ROUND\n",
    "        clear_output()\n",
    "        board_table(board)\n",
    "        u_input = 'X'\n",
    "        user_input(board, u_input)\n",
    "        if finish(board) == True:\n",
    "            break\n",
    "        # SECOND PLAYER ROUND\n",
    "        clear_output()\n",
    "        board_table(board)\n",
    "        u_input = 'O'\n",
    "        user_input(board, u_input)\n",
    "        board_table(board)\n",
    "        if finish(board) == True:\n",
    "            break"
   ]
  },
  {
   "cell_type": "code",
   "execution_count": null,
   "id": "98f2c8cf",
   "metadata": {},
   "outputs": [],
   "source": [
    "game_logic(board, u_input)"
   ]
  }
 ],
 "metadata": {
  "kernelspec": {
   "display_name": "Python 3 (ipykernel)",
   "language": "python",
   "name": "python3"
  },
  "language_info": {
   "codemirror_mode": {
    "name": "ipython",
    "version": 3
   },
   "file_extension": ".py",
   "mimetype": "text/x-python",
   "name": "python",
   "nbconvert_exporter": "python",
   "pygments_lexer": "ipython3",
   "version": "3.9.12"
  }
 },
 "nbformat": 4,
 "nbformat_minor": 5
}
